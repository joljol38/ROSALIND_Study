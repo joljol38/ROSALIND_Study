{
 "cells": [
  {
   "attachments": {},
   "cell_type": "markdown",
   "metadata": {},
   "source": [
    "## Finding a Motif in DNA"
   ]
  },
  {
   "attachments": {},
   "cell_type": "markdown",
   "metadata": {},
   "source": [
    "Given two strings s and t, t is a substring of s if t is contained as a contiguous collection of symbols in s (as a result, t must be no longer than s).\n",
    "\n",
    "The position of a symbol in a string is the total number of symbols found to its left, including itself (e.g., the positions of all occurrences of 'U' in \"AUGCUUCAGAAAGGUCUUACG\" are 2, 5, 6, 15, 17, and 18). The symbol at position i of s is denoted by s[i].\n",
    "\n",
    "A substring of s can be represented as s[j:k], where j and k represent the starting and ending positions of the substring in s; for example, if s = \"AUGCUUCAGAAAGGUCUUACG\", then s[2:5] = \"UGCU\".\n",
    "\n",
    "The location of a substring s[j:k] is its beginning position j; note that t will have multiple locations in s if it occurs more than once as a substring of s (see the Sample below).\n",
    "\n",
    "Given: Two DNA strings s and t (each of length at most 1 kbp).\n",
    "\n",
    "Return: All locations of t as a substring of s."
   ]
  },
  {
   "cell_type": "code",
   "execution_count": 8,
   "metadata": {},
   "outputs": [],
   "source": [
    "str = 'TCTTTTTCTCTCTTTTTGAGTCTTTTTAACCTGTCTTTTTTCTTTTTACTCTTTTTTTCTTTTTTGCGGTAGTGTCTTTTTTCTTTTTAATGTCTTTTTCGATGATTCTTTTTTGACATCTTTTTTCTTTTTAGTATTATCTTTTTCTTGTTCTCTTTTTGTCTTTTTCTCTTTTTTCTTTTTTTCATCTTTTTTCTTTTTTCTTTTTAGTCTTTTTATCTTTTTGTCTTTTTTCTTTTTGGTGCTCTTTTTAATTCTTTTTAGGTCTTTTTTCTTTTTTCTTTTTTCTTTTTAACTGCTCTTTTTTAGTTCTTTTTGAAATCTTTTTGTTCTTTTTTCATTCTTTTTAGGCTTCTTTTTATCTTTTTCATCTTTTTTCTTTTTTTCTTTTTTTCTTTTTTGTCTTTTTGTCTTTTTCTCTTTTTAAGTAGATCAGAGGCGGCCCTCTTTTTTCTTTTTCGACTTTCTTTTTAATTCTTTTTATCTTTTTAACCTCTTTTTGGTCTTTTTTCGCTCTTTTTGAAGTGACTGTTTCTTTTTGCTCTTTTTTTTCTTTTTGCTCGCCAGAGTTCTTTTTACTCTTTTTGTCTTTTTTATCTTTTTTCTTTTTTCTTTTTCTTCTTTTTCCACTCTTTTTTACGGTTTCTTTTTTATGTCTTTTTTCTTTTTCGGACAACCTATCTTTTTATCTTTTTTTCTTTTTTCTTTTTTTCTTTTTATCTTTTTACTCTTTTTCCTTCTCTTTTTCTCTTTTTTCTTTTTGTCTTTTTTTCCCGGGAGTCTTTTTTCTTTTTTCTTTTT'\n",
    "target = 'TCTTTTTTC'\n",
    "\n",
    "index = -1\n",
    "a = []\n",
    "while True:\n",
    "    index = str.find(target, index + 1)\n",
    "    if index == -1:\n",
    "        break\n",
    "    a.append(index+1)"
   ]
  },
  {
   "cell_type": "code",
   "execution_count": 10,
   "metadata": {},
   "outputs": [
    {
     "name": "stdout",
     "output_type": "stream",
     "text": [
      "[34, 75, 119, 170, 188, 195, 227, 266, 273, 280, 331, 371, 446, 504, 597, 604, 656, 697, 749, 781, 788]\n"
     ]
    }
   ],
   "source": [
    "print(a)"
   ]
  },
  {
   "cell_type": "code",
   "execution_count": 12,
   "metadata": {},
   "outputs": [
    {
     "name": "stdout",
     "output_type": "stream",
     "text": [
      "2\n",
      "4\n",
      "10\n",
      "0\n"
     ]
    }
   ],
   "source": [
    "# ref\n",
    "dnaSeq = \"GATATATGCATATACTT\"\n",
    "subSeq = \"ATAT\"\n",
    "\n",
    "r = 0\n",
    "while r != -1 :\n",
    "        r = dnaSeq.find(subSeq,r+1)\n",
    "        print (r+1)"
   ]
  }
 ],
 "metadata": {
  "kernelspec": {
   "display_name": "Python 3",
   "language": "python",
   "name": "python3"
  },
  "language_info": {
   "codemirror_mode": {
    "name": "ipython",
    "version": 3
   },
   "file_extension": ".py",
   "mimetype": "text/x-python",
   "name": "python",
   "nbconvert_exporter": "python",
   "pygments_lexer": "ipython3",
   "version": "3.10.4"
  },
  "orig_nbformat": 4,
  "vscode": {
   "interpreter": {
    "hash": "f209872d82f9794c704f0d4052cc71563b5d71bf08c9151c94b32b01be0c54a0"
   }
  }
 },
 "nbformat": 4,
 "nbformat_minor": 2
}
