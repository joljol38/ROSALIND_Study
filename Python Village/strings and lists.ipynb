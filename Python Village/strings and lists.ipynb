{
 "cells": [
  {
   "attachments": {},
   "cell_type": "markdown",
   "metadata": {},
   "source": [
    "## String and Lists"
   ]
  },
  {
   "attachments": {},
   "cell_type": "markdown",
   "metadata": {},
   "source": [
    "Given: A string s\n",
    " of length at most 200 letters and four integers a\n",
    ", b\n",
    ", c\n",
    " and d\n",
    ".\n",
    "\n",
    "Return: The slice of this string from indices a\n",
    " through b\n",
    " and c\n",
    " through d\n",
    " (with space in between), inclusively. In other words, we should include elements s[b]\n",
    " and s[d]\n",
    " in our slice."
   ]
  },
  {
   "cell_type": "code",
   "execution_count": 8,
   "metadata": {},
   "outputs": [
    {
     "name": "stdout",
     "output_type": "stream",
     "text": [
      "Humpty Dumpty\n"
     ]
    }
   ],
   "source": [
    "#Example\n",
    "a = 'HumptyDumptysatonawallHumptyDumptyhadagreatfallAlltheKingshorsesandalltheKingsmenCouldntputHumptyDumptyinhisplaceagain.'\n",
    "b = a[22:28]\n",
    "c = a[97:103]\n",
    "print (b, c)\n"
   ]
  },
  {
   "cell_type": "code",
   "execution_count": 9,
   "metadata": {},
   "outputs": [
    {
     "name": "stdout",
     "output_type": "stream",
     "text": [
      "Scorpio vanellus\n"
     ]
    }
   ],
   "source": [
    "a = 'NtiRxPB3n8QSe0KNXLnrVDOpuhITo0YLhKIFScpgJPIyLM6QLeTYxxx9oScorpiocRXQswgiC7MSCXh9wH87RR1z9UjnUEroh0YIvfbok1tAujtFem6uviDi2xeq1dre6gh4D8bavvFERpVvanellusclCojT0me1F0Bw51rYhDCasxGT6pato6ndCRO0bLL1fl.'\n",
    "b = a[57:64]\n",
    "c = a[143:151]\n",
    "print (b, c)"
   ]
  }
 ],
 "metadata": {
  "kernelspec": {
   "display_name": "Python 3",
   "language": "python",
   "name": "python3"
  },
  "language_info": {
   "codemirror_mode": {
    "name": "ipython",
    "version": 3
   },
   "file_extension": ".py",
   "mimetype": "text/x-python",
   "name": "python",
   "nbconvert_exporter": "python",
   "pygments_lexer": "ipython3",
   "version": "3.10.4 (tags/v3.10.4:9d38120, Mar 23 2022, 23:13:41) [MSC v.1929 64 bit (AMD64)]"
  },
  "orig_nbformat": 4,
  "vscode": {
   "interpreter": {
    "hash": "f209872d82f9794c704f0d4052cc71563b5d71bf08c9151c94b32b01be0c54a0"
   }
  }
 },
 "nbformat": 4,
 "nbformat_minor": 2
}
