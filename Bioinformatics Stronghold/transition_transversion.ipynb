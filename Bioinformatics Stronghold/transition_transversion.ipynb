{
 "cells": [
  {
   "attachments": {},
   "cell_type": "markdown",
   "metadata": {},
   "source": [
    "## Transition and Transversion"
   ]
  },
  {
   "attachments": {},
   "cell_type": "markdown",
   "metadata": {},
   "source": [
    "Problem\n",
    "For DNA strings s1 and s2 having the same length, their transition/transversion ratio R(s1,s2) is the ratio of the total number of transitions to the total number of transversions, where symbol substitutions are inferred from mismatched corresponding symbols as when calculating Hamming distance (see “Counting Point Mutations”).\n",
    "\n",
    "Given: Two DNA strings s1 and s2 of equal length (at most 1 kbp).\n",
    "\n",
    "Return: The transition/transversion ratio R(s1,s2)."
   ]
  },
  {
   "cell_type": "code",
   "execution_count": 28,
   "metadata": {},
   "outputs": [],
   "source": [
    "#####################\n",
    "# code to read FASTA file\n",
    "#####################\n",
    "import sys, re\n",
    "\n",
    "f=open('rosalind_tran.fasta','r')\n",
    "lines=f.readlines()\n",
    "\n",
    "hre=re.compile('>(\\S+)')\n",
    "lre=re.compile('^(\\S+)$')\n",
    "\n",
    "gene={}\n",
    "\n",
    "for line in lines:\n",
    "        outh = hre.search(line)\n",
    "        if outh:\n",
    "                id=outh.group(1)\n",
    "        else:\n",
    "                outl=lre.search(line)\n",
    "                if(id in gene.keys()):\n",
    "                        gene[id] += outl.group(1)\n",
    "                else:\n",
    "                        gene[id]  =outl.group(1)"
   ]
  },
  {
   "cell_type": "code",
   "execution_count": 29,
   "metadata": {},
   "outputs": [
    {
     "name": "stdout",
     "output_type": "stream",
     "text": [
      "1.8125\n"
     ]
    }
   ],
   "source": [
    "# print(gene)\n",
    "code = list(gene.values())\n",
    "# print(code)\n",
    "\n",
    "la = list(code[0])\n",
    "lb = list(code[1])\n",
    "count_ts = 0\n",
    "count_tv = 0\n",
    "# print(la, lb, sep = \"\\n\")\n",
    "# print(len(la))\n",
    "# print(len(lb))\n",
    "\n",
    "for i in range(len(la)):\n",
    "    if ((la[i] == 'A') and (lb[i] == 'G')) or ((la[i] == 'G') and (lb[i] == 'A')) or ((la[i] == 'C') and (lb[i] == 'T')) or ((la[i] == 'T') and (lb[i] == 'C')) :\n",
    "        count_ts += 1\n",
    "    elif ((la[i] == 'A') and (lb[i] == 'C')) or ((la[i] == 'A') and (lb[i] == 'T')) or ((la[i] == 'G') and (lb[i] == 'C')) or (la[i] == 'G') and (lb[i] == 'T') or ((la[i] == 'T') and (lb[i] == 'A')) or ((la[i] == 'T') and (lb[i] == 'G')) or ((la[i] == 'C') and (lb[i] == 'A')) or (la[i] == 'C') and (lb[i] == 'G'):\n",
    "        count_tv += 1\n",
    "# print(count_ts, count_tv, sep = '\\n')\n",
    "print(count_ts/count_tv)"
   ]
  },
  {
   "cell_type": "code",
   "execution_count": 30,
   "metadata": {},
   "outputs": [
    {
     "name": "stdout",
     "output_type": "stream",
     "text": [
      "1.8125\n"
     ]
    }
   ],
   "source": [
    "for i in range(len(la)):\n",
    "    if ((la[i] == 'A') and (lb[i] == 'G')) or ((la[i] == 'G') and (lb[i] == 'A')) or ((la[i] == 'C') and (lb[i] == 'T')) or ((la[i] == 'T') and (lb[i] == 'C')) :\n",
    "        count_ts += 1\n",
    "    elif ((la[i] == 'A') and (lb[i] == 'C')) or ((la[i] == 'A') and (lb[i] == 'T')) or ((la[i] == 'G') and (lb[i] == 'C')) or (la[i] == 'G') and (lb[i] == 'T') or ((la[i] == 'T') and (lb[i] == 'A')) or ((la[i] == 'T') and (lb[i] == 'G')) or ((la[i] == 'C') and (lb[i] == 'A')) or (la[i] == 'C') and (lb[i] == 'G'):\n",
    "        count_tv += 1\n",
    "# print(count_ts, count_tv, sep = '\\n')\n",
    "print(count_ts/count_tv)"
   ]
  }
 ],
 "metadata": {
  "kernelspec": {
   "display_name": "coding",
   "language": "python",
   "name": "python3"
  },
  "language_info": {
   "codemirror_mode": {
    "name": "ipython",
    "version": 3
   },
   "file_extension": ".py",
   "mimetype": "text/x-python",
   "name": "python",
   "nbconvert_exporter": "python",
   "pygments_lexer": "ipython3",
   "version": "3.9.13"
  },
  "orig_nbformat": 4
 },
 "nbformat": 4,
 "nbformat_minor": 2
}
