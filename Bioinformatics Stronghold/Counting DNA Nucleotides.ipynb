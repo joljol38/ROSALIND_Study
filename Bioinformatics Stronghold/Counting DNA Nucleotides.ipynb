{
 "cells": [
  {
   "attachments": {},
   "cell_type": "markdown",
   "metadata": {},
   "source": [
    "## Counting DNA Nucleotides"
   ]
  },
  {
   "attachments": {},
   "cell_type": "markdown",
   "metadata": {},
   "source": [
    "A string is simply an ordered collection of symbols selected from some alphabet and formed into a word; the length of a string is the number of symbols that it contains.\n",
    "\n",
    "An example of a length 21 DNA string (whose alphabet contains the symbols 'A', 'C', 'G', and 'T') is \"ATGCTTCAGAAAGGTCTTACG.\"\n",
    "\n",
    "Given: A DNA string s of length at most 1000 nt.\n",
    "\n",
    "Return: Four integers (separated by spaces) counting the respective number of times that the symbols 'A', 'C', 'G', and 'T' occur in s."
   ]
  },
  {
   "cell_type": "code",
   "execution_count": 1,
   "metadata": {},
   "outputs": [
    {
     "name": "stdout",
     "output_type": "stream",
     "text": [
      "{'C': 201, 'A': 215, 'T': 193, 'G': 206}\n",
      "['C', 'C', 'A', 'T', 'A', 'C', 'A', 'G', 'T', 'G', 'T', 'A', 'T', 'G', 'T', 'C', 'A', 'T', 'T', 'T', 'C', 'A', 'C', 'C', 'G', 'G', 'C', 'A', 'A', 'C', 'C', 'G', 'C', 'C', 'C', 'A', 'A', 'A', 'A', 'C', 'C', 'G', 'A', 'T', 'A', 'T', 'T', 'T', 'G', 'G', 'T', 'C', 'A', 'G', 'G', 'C', 'G', 'T', 'C', 'A', 'T', 'G', 'C', 'A', 'G', 'C', 'C', 'T', 'C', 'C', 'A', 'G', 'T', 'T', 'A', 'C', 'T', 'A', 'G', 'G', 'A', 'T', 'A', 'C', 'G', 'C', 'A', 'A', 'A', 'A', 'T', 'C', 'T', 'T', 'A', 'A', 'C', 'T', 'C', 'G', 'C', 'C', 'C', 'A', 'C', 'G', 'G', 'A', 'T', 'C', 'C', 'A', 'A', 'G', 'C', 'G', 'G', 'T', 'T', 'A', 'A', 'T', 'T', 'G', 'T', 'T', 'C', 'A', 'G', 'T', 'G', 'C', 'A', 'T', 'C', 'T', 'A', 'C', 'G', 'G', 'G', 'A', 'T', 'C', 'G', 'T', 'T', 'G', 'A', 'T', 'C', 'T', 'G', 'G', 'T', 'A', 'A', 'T', 'T', 'C', 'C', 'T', 'T', 'A', 'G', 'G', 'T', 'A', 'G', 'G', 'G', 'T', 'C', 'T', 'A', 'G', 'C', 'C', 'A', 'C', 'T', 'G', 'G', 'C', 'G', 'A', 'G', 'A', 'G', 'C', 'C', 'G', 'G', 'A', 'C', 'A', 'G', 'T', 'C', 'G', 'T', 'T', 'C', 'C', 'A', 'C', 'C', 'A', 'G', 'C', 'T', 'C', 'A', 'T', 'T', 'G', 'G', 'C', 'C', 'T', 'C', 'T', 'T', 'A', 'C', 'T', 'G', 'C', 'A', 'C', 'A', 'G', 'A', 'A', 'T', 'C', 'G', 'T', 'G', 'A', 'T', 'A', 'T', 'T', 'C', 'C', 'C', 'A', 'G', 'A', 'A', 'G', 'A', 'T', 'T', 'G', 'C', 'A', 'G', 'A', 'T', 'C', 'C', 'T', 'C', 'T', 'A', 'G', 'C', 'G', 'G', 'A', 'T', 'T', 'C', 'A', 'G', 'C', 'T', 'T', 'A', 'T', 'T', 'T', 'G', 'T', 'T', 'G', 'A', 'A', 'A', 'A', 'C', 'T', 'C', 'T', 'C', 'C', 'C', 'G', 'C', 'G', 'G', 'C', 'G', 'A', 'T', 'G', 'C', 'C', 'C', 'G', 'G', 'G', 'C', 'A', 'T', 'G', 'A', 'G', 'T', 'T', 'G', 'A', 'G', 'A', 'G', 'G', 'G', 'G', 'C', 'A', 'T', 'A', 'C', 'G', 'A', 'C', 'G', 'G', 'A', 'T', 'G', 'C', 'A', 'A', 'C', 'A', 'C', 'G', 'G', 'G', 'A', 'T', 'C', 'T', 'G', 'T', 'T', 'T', 'G', 'T', 'C', 'A', 'C', 'G', 'G', 'G', 'A', 'A', 'C', 'G', 'A', 'C', 'A', 'T', 'G', 'T', 'G', 'T', 'A', 'G', 'G', 'A', 'C', 'G', 'T', 'G', 'G', 'T', 'T', 'G', 'T', 'A', 'A', 'G', 'T', 'A', 'G', 'C', 'A', 'T', 'C', 'G', 'A', 'G', 'C', 'C', 'C', 'A', 'T', 'T', 'C', 'C', 'T', 'C', 'C', 'G', 'C', 'T', 'A', 'T', 'G', 'T', 'A', 'T', 'G', 'A', 'C', 'A', 'C', 'G', 'C', 'G', 'A', 'C', 'A', 'A', 'C', 'G', 'A', 'T', 'A', 'G', 'A', 'G', 'A', 'G', 'G', 'G', 'T', 'A', 'G', 'C', 'A', 'A', 'G', 'A', 'C', 'T', 'T', 'T', 'C', 'T', 'G', 'G', 'C', 'A', 'T', 'T', 'G', 'C', 'C', 'A', 'C', 'G', 'G', 'T', 'C', 'A', 'C', 'G', 'G', 'A', 'T', 'T', 'C', 'G', 'T', 'G', 'G', 'T', 'A', 'C', 'G', 'A', 'T', 'A', 'G', 'T', 'T', 'T', 'A', 'C', 'G', 'G', 'A', 'G', 'C', 'C', 'A', 'C', 'A', 'C', 'A', 'A', 'A', 'A', 'C', 'G', 'G', 'A', 'T', 'T', 'C', 'G', 'A', 'G', 'T', 'G', 'A', 'T', 'G', 'C', 'T', 'G', 'A', 'A', 'A', 'T', 'G', 'G', 'T', 'G', 'G', 'C', 'G', 'A', 'A', 'C', 'T', 'A', 'G', 'A', 'A', 'C', 'G', 'A', 'G', 'C', 'A', 'C', 'T', 'C', 'C', 'G', 'T', 'C', 'C', 'G', 'T', 'C', 'C', 'G', 'C', 'A', 'C', 'C', 'G', 'C', 'A', 'G', 'G', 'T', 'G', 'C', 'A', 'A', 'A', 'G', 'C', 'T', 'G', 'T', 'T', 'A', 'A', 'C', 'A', 'C', 'A', 'A', 'T', 'G', 'G', 'G', 'G', 'G', 'A', 'T', 'T', 'C', 'A', 'A', 'G', 'A', 'G', 'G', 'T', 'T', 'C', 'A', 'C', 'G', 'C', 'C', 'T', 'G', 'G', 'C', 'A', 'C', 'A', 'C', 'A', 'A', 'G', 'T', 'A', 'T', 'T', 'T', 'C', 'A', 'A', 'T', 'A', 'C', 'T', 'T', 'C', 'A', 'T', 'G', 'C', 'T', 'A', 'T', 'C', 'G', 'A', 'T', 'T', 'C', 'T', 'C', 'T', 'C', 'G', 'C', 'A', 'C', 'A', 'C', 'T', 'A', 'C', 'A', 'G', 'C', 'A', 'T', 'G', 'G', 'A', 'T', 'T', 'A', 'T', 'T', 'C', 'T', 'G', 'C', 'G', 'T', 'G', 'A', 'A', 'A', 'C', 'C', 'C', 'A', 'A', 'G', 'C', 'C', 'G', 'T', 'C', 'G', 'T', 'C', 'A', 'G', 'G', 'A', 'T', 'A', 'A', 'G', 'T', 'A', 'T', 'A', 'C', 'A', 'T', 'G', 'G', 'T', 'T', 'C', 'T', 'A', 'C', 'C', 'G', 'T', 'T', 'G', 'G', 'A', 'T', 'A', 'A', 'T', 'T', 'A', 'C', 'C', 'A', 'A', 'T', 'A', 'T', 'C', 'G', 'A', 'T', 'A', 'C', 'T', 'G', 'A', 'T', 'T', 'T', 'G', 'A', 'C', 'A', 'A', 'G', 'C', 'T', 'T', 'A', 'T', 'G', 'G', 'A', 'C', 'A', 'A', 'A', 'G', 'A', 'G', 'G', 'A', 'C', 'C', 'C', 'A', 'A', 'G', 'G', 'A', 'C', 'G', 'C', 'C', 'C', 'T', 'G', 'G', 'A', 'A', 'C', 'A', 'A', 'G', 'T']\n"
     ]
    }
   ],
   "source": [
    "dict = {}\n",
    "c = []\n",
    "string = 'CCATACAGTGTATGTCATTTCACCGGCAACCGCCCAAAACCGATATTTGGTCAGGCGTCATGCAGCCTCCAGTTACTAGGATACGCAAAATCTTAACTCGCCCACGGATCCAAGCGGTTAATTGTTCAGTGCATCTACGGGATCGTTGATCTGGTAATTCCTTAGGTAGGGTCTAGCCACTGGCGAGAGCCGGACAGTCGTTCCACCAGCTCATTGGCCTCTTACTGCACAGAATCGTGATATTCCCAGAAGATTGCAGATCCTCTAGCGGATTCAGCTTATTTGTTGAAAACTCTCCCGCGGCGATGCCCGGGCATGAGTTGAGAGGGGCATACGACGGATGCAACACGGGATCTGTTTGTCACGGGAACGACATGTGTAGGACGTGGTTGTAAGTAGCATCGAGCCCATTCCTCCGCTATGTATGACACGCGACAACGATAGAGAGGGTAGCAAGACTTTCTGGCATTGCCACGGTCACGGATTCGTGGTACGATAGTTTACGGAGCCACACAAAACGGATTCGAGTGATGCTGAAATGGTGGCGAACTAGAACGAGCACTCCGTCCGTCCGCACCGCAGGTGCAAAGCTGTTAACACAATGGGGGATTCAAGAGGTTCACGCCTGGCACACAAGTATTTCAATACTTCATGCTATCGATTCTCTCGCACACTACAGCATGGATTATTCTGCGTGAAACCCAAGCCGTCGTCAGGATAAGTATACATGGTTCTACCGTTGGATAATTACCAATATCGATACTGATTTGACAAGCTTATGGACAAAGAGGACCCAAGGACGCCCTGGAACAAGT'\n",
    "a = list(string)\n",
    "\n",
    "for i in range(len(a)):\n",
    "    c.append(a.count(a[i]))\n",
    "\n",
    "for i in range(len(a)):\n",
    "    dict[a[i]] = c[i]\n",
    "print(dict)\n",
    "print(a)"
   ]
  },
  {
   "cell_type": "code",
   "execution_count": 2,
   "metadata": {},
   "outputs": [
    {
     "data": {
      "text/plain": [
       "(215, 201, 206, 193)"
      ]
     },
     "execution_count": 2,
     "metadata": {},
     "output_type": "execute_result"
    }
   ],
   "source": [
    "def qt(s):\n",
    "      return s.count(\"A\"), s.count(\"C\"), s.count(\"G\"), s.count(\"T\")\n",
    "\n",
    "qt(string)"
   ]
  },
  {
   "cell_type": "code",
   "execution_count": 3,
   "metadata": {},
   "outputs": [
    {
     "name": "stdout",
     "output_type": "stream",
     "text": [
      "215 201 206 193\n"
     ]
    }
   ],
   "source": [
    "# reference code\n",
    "print(*map(input().count, \"ACGT\"))"
   ]
  }
 ],
 "metadata": {
  "kernelspec": {
   "display_name": "Python 3",
   "language": "python",
   "name": "python3"
  },
  "language_info": {
   "codemirror_mode": {
    "name": "ipython",
    "version": 3
   },
   "file_extension": ".py",
   "mimetype": "text/x-python",
   "name": "python",
   "nbconvert_exporter": "python",
   "pygments_lexer": "ipython3",
   "version": "3.10.4"
  },
  "orig_nbformat": 4,
  "vscode": {
   "interpreter": {
    "hash": "f209872d82f9794c704f0d4052cc71563b5d71bf08c9151c94b32b01be0c54a0"
   }
  }
 },
 "nbformat": 4,
 "nbformat_minor": 2
}
