{
 "cells": [
  {
   "attachments": {},
   "cell_type": "markdown",
   "metadata": {},
   "source": [
    "## Working with Files"
   ]
  },
  {
   "attachments": {},
   "cell_type": "markdown",
   "metadata": {},
   "source": [
    "Given: A file containing at most 1000 lines.\n",
    "\n",
    "Return: A file containing all the even-numbered lines from the original file. Assume 1-based numbering of lines."
   ]
  },
  {
   "cell_type": "code",
   "execution_count": 28,
   "metadata": {},
   "outputs": [],
   "source": [
    "f = open('rosalind_ini5.txt', 'r')\n",
    "\n",
    "lines = f.readlines()\n"
   ]
  },
  {
   "cell_type": "code",
   "execution_count": 29,
   "metadata": {},
   "outputs": [
    {
     "name": "stdout",
     "output_type": "stream",
     "text": [
      "Some things in life are bad, they can really make you mad\n",
      "\n",
      "Other things just make you swear and curse\n",
      "\n",
      "When you're chewing on life's gristle, don't grumble give a whistle\n",
      "\n",
      "This will help things turn out for the best\n",
      "\n",
      "Always look on the bright side of life\n",
      "\n",
      "Always look on the right side of life\n",
      "\n",
      "If life seems jolly rotten, there's something you've forgotten\n",
      "\n",
      "And that's to laugh and smile and dance and sing\n",
      "\n",
      "When you're feeling in the dumps, don't be silly, chumps\n",
      "\n",
      "Just purse your lips and whistle, that's the thing\n",
      "\n",
      "So, always look on the bright side of death\n",
      "\n",
      "Just before you draw your terminal breath\n",
      "\n",
      "Life's a counterfeit and when you look at it\n",
      "\n",
      "Life's a laugh and death's the joke, it's true\n",
      "\n",
      "You see, it's all a show, keep them laughing as you go\n",
      "\n",
      "Just remember the last laugh is on you\n",
      "\n",
      "Always look on the bright side of life\n",
      "\n",
      "And always look on the right side of life\n",
      "\n",
      "Always look on the bright side of life\n",
      "\n",
      "And always look on the right side of life\n",
      "\n"
     ]
    }
   ],
   "source": [
    "for i in range(0, len(lines)):\n",
    "    if i % 2 != 0 :\n",
    "        print (lines[i])"
   ]
  },
  {
   "cell_type": "code",
   "execution_count": null,
   "metadata": {},
   "outputs": [],
   "source": [
    "# reference code\n",
    "f = open('input.txt', 'r')\n",
    "g = open('output.txt', 'w')\n",
    "for x in f.readlines()[1::2]: \n",
    "  g.write(x)\n",
    "g.close()"
   ]
  }
 ],
 "metadata": {
  "kernelspec": {
   "display_name": "Python 3",
   "language": "python",
   "name": "python3"
  },
  "language_info": {
   "codemirror_mode": {
    "name": "ipython",
    "version": 3
   },
   "file_extension": ".py",
   "mimetype": "text/x-python",
   "name": "python",
   "nbconvert_exporter": "python",
   "pygments_lexer": "ipython3",
   "version": "3.10.4 (tags/v3.10.4:9d38120, Mar 23 2022, 23:13:41) [MSC v.1929 64 bit (AMD64)]"
  },
  "orig_nbformat": 4,
  "vscode": {
   "interpreter": {
    "hash": "f209872d82f9794c704f0d4052cc71563b5d71bf08c9151c94b32b01be0c54a0"
   }
  }
 },
 "nbformat": 4,
 "nbformat_minor": 2
}
