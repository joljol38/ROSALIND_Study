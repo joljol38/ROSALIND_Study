{
 "cells": [
  {
   "attachments": {},
   "cell_type": "markdown",
   "metadata": {},
   "source": [
    "## Enumerating Gene orders"
   ]
  },
  {
   "attachments": {},
   "cell_type": "markdown",
   "metadata": {},
   "source": [
    "A permutation of length n is an ordering of the positive integers {1,2,…,n}. For example, π=(5,3,2,1,4) is a permutation of length 5.\n",
    "\n",
    "Given: A positive integer n≤7.\n",
    "\n",
    "Return: The total number of permutations of length n, followed by a list of all such permutations (in any order)."
   ]
  },
  {
   "cell_type": "code",
   "execution_count": 15,
   "metadata": {},
   "outputs": [],
   "source": [
    "from itertools import permutations\n",
    "\n",
    "n = 5\n",
    "arr = [1, 2, 3, 4, 5]\n",
    "answer = list(permutations(arr,5))\n"
   ]
  },
  {
   "cell_type": "code",
   "execution_count": 16,
   "metadata": {},
   "outputs": [
    {
     "name": "stdout",
     "output_type": "stream",
     "text": [
      "120\n",
      "(1, 2, 3, 4, 5)\n",
      "(1, 2, 3, 5, 4)\n",
      "(1, 2, 4, 3, 5)\n",
      "(1, 2, 4, 5, 3)\n",
      "(1, 2, 5, 3, 4)\n",
      "(1, 2, 5, 4, 3)\n",
      "(1, 3, 2, 4, 5)\n",
      "(1, 3, 2, 5, 4)\n",
      "(1, 3, 4, 2, 5)\n",
      "(1, 3, 4, 5, 2)\n",
      "(1, 3, 5, 2, 4)\n",
      "(1, 3, 5, 4, 2)\n",
      "(1, 4, 2, 3, 5)\n",
      "(1, 4, 2, 5, 3)\n",
      "(1, 4, 3, 2, 5)\n",
      "(1, 4, 3, 5, 2)\n",
      "(1, 4, 5, 2, 3)\n",
      "(1, 4, 5, 3, 2)\n",
      "(1, 5, 2, 3, 4)\n",
      "(1, 5, 2, 4, 3)\n",
      "(1, 5, 3, 2, 4)\n",
      "(1, 5, 3, 4, 2)\n",
      "(1, 5, 4, 2, 3)\n",
      "(1, 5, 4, 3, 2)\n",
      "(2, 1, 3, 4, 5)\n",
      "(2, 1, 3, 5, 4)\n",
      "(2, 1, 4, 3, 5)\n",
      "(2, 1, 4, 5, 3)\n",
      "(2, 1, 5, 3, 4)\n",
      "(2, 1, 5, 4, 3)\n",
      "(2, 3, 1, 4, 5)\n",
      "(2, 3, 1, 5, 4)\n",
      "(2, 3, 4, 1, 5)\n",
      "(2, 3, 4, 5, 1)\n",
      "(2, 3, 5, 1, 4)\n",
      "(2, 3, 5, 4, 1)\n",
      "(2, 4, 1, 3, 5)\n",
      "(2, 4, 1, 5, 3)\n",
      "(2, 4, 3, 1, 5)\n",
      "(2, 4, 3, 5, 1)\n",
      "(2, 4, 5, 1, 3)\n",
      "(2, 4, 5, 3, 1)\n",
      "(2, 5, 1, 3, 4)\n",
      "(2, 5, 1, 4, 3)\n",
      "(2, 5, 3, 1, 4)\n",
      "(2, 5, 3, 4, 1)\n",
      "(2, 5, 4, 1, 3)\n",
      "(2, 5, 4, 3, 1)\n",
      "(3, 1, 2, 4, 5)\n",
      "(3, 1, 2, 5, 4)\n",
      "(3, 1, 4, 2, 5)\n",
      "(3, 1, 4, 5, 2)\n",
      "(3, 1, 5, 2, 4)\n",
      "(3, 1, 5, 4, 2)\n",
      "(3, 2, 1, 4, 5)\n",
      "(3, 2, 1, 5, 4)\n",
      "(3, 2, 4, 1, 5)\n",
      "(3, 2, 4, 5, 1)\n",
      "(3, 2, 5, 1, 4)\n",
      "(3, 2, 5, 4, 1)\n"
     ]
    }
   ],
   "source": [
    "print(len(answer))\n",
    "for i in range(len(list(permutations(arr,3)))) :\n",
    "    print(answer[i])"
   ]
  },
  {
   "cell_type": "code",
   "execution_count": null,
   "metadata": {},
   "outputs": [],
   "source": []
  }
 ],
 "metadata": {
  "kernelspec": {
   "display_name": "Python 3",
   "language": "python",
   "name": "python3"
  },
  "language_info": {
   "codemirror_mode": {
    "name": "ipython",
    "version": 3
   },
   "file_extension": ".py",
   "mimetype": "text/x-python",
   "name": "python",
   "nbconvert_exporter": "python",
   "pygments_lexer": "ipython3",
   "version": "3.10.4"
  },
  "orig_nbformat": 4,
  "vscode": {
   "interpreter": {
    "hash": "f209872d82f9794c704f0d4052cc71563b5d71bf08c9151c94b32b01be0c54a0"
   }
  }
 },
 "nbformat": 4,
 "nbformat_minor": 2
}
