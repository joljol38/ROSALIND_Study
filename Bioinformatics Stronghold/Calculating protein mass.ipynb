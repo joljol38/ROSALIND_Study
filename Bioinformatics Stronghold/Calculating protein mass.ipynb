{
 "cells": [
  {
   "attachments": {},
   "cell_type": "markdown",
   "metadata": {},
   "source": [
    "## Calculating Protein Mass"
   ]
  },
  {
   "attachments": {},
   "cell_type": "markdown",
   "metadata": {},
   "source": [
    "In a weighted alphabet, every symbol is assigned a positive real number called a weight. A string formed from a weighted alphabet is called a weighted string, and its weight is equal to the sum of the weights of its symbols.\n",
    "\n",
    "The standard weight assigned to each member of the 20-symbol amino acid alphabet is the monoisotopic mass of the corresponding amino acid.\n",
    "\n",
    "Given: A protein string P of length at most 1000 aa.\n",
    "\n",
    "Return: The total weight of P. Consult the monoisotopic mass table."
   ]
  },
  {
   "cell_type": "code",
   "execution_count": 3,
   "metadata": {},
   "outputs": [],
   "source": [
    "mass = {'A' : 71.03711,\n",
    "        'C' : 103.00919,\n",
    "        'D' : 115.02694,\n",
    "        'E' : 129.04259,\n",
    "        'F' : 147.06841,\n",
    "        'G' : 57.02146,\n",
    "        'H' : 137.05891,\n",
    "        'I' : 113.08406,\n",
    "        'K' : 128.09496,\n",
    "        'L' : 113.08406,\n",
    "        'M' : 131.04049,\n",
    "        'N' : 114.04293,\n",
    "        'P' : 97.05276,\n",
    "        'Q' : 128.05858,\n",
    "        'R' : 156.10111,\n",
    "        'S' : 87.03203,\n",
    "        'T' : 101.04768,\n",
    "        'V' : 99.06841,\n",
    "        'W' : 186.07931,\n",
    "        'Y' : 163.06333\n",
    "        }"
   ]
  },
  {
   "cell_type": "code",
   "execution_count": 51,
   "metadata": {},
   "outputs": [],
   "source": [
    "def list_chunk(lst, n):\n",
    "    return [lst[i:i+n] for i in range(0, len(lst), n)]"
   ]
  },
  {
   "cell_type": "code",
   "execution_count": 56,
   "metadata": {},
   "outputs": [],
   "source": [
    "string = 'PNRDCYHGGPMVHHHGIDFQVRPLVVRWPMADDLMNFGNLMFDCLVYWQSFIMATTMCKDQGWRAYRNMRRCHTWCFHCYFGWGAKNEPDGCDPDAQTPNNGKPYGHPITHMMEIPLVFDKQLFVYKPDQLPHCDTCEVRSTELAIRYYRFATIKMATDYSMMVSMWIWNICGITIATADQEHEQPCHPITHFVFAGQIYLNWVSTTSTRYDIQWYNTFFRMMPYFTNPQSEGAVAYNWAEKFKKEHEWCQYWSKKNKVIEYYWSQRLFLPMTAIMENYRMMKQMAAAYSANPCSSWPCQKSFEIHADEATSMIHAFKRDGVMPWRPWEFCRHDWEIKVSQYFEFKHSWIPFLCNCMPGKWCMFWIASMSGMNCARPLMEWWRTKVQRSNTQRRFWKAMKIIHWDTMPDKEHPPGMNSICDYGVAMNDRGTNFYYVPHAYLPLPQTTSYNHRMAIYAGIVLSFDTMLNTVAIKHVAFEPTMKGMFMHMQNRHDILASQMHACMYYAQADREITQDMWMLSICVSRWWAGWPAVDALQTLETTGRQVKWTFYWHNIDEDVFLYRCYLWLHWSICNIVCCRWPFFVRCKRALLVAVEGVVDDEAVRYQDMIRKFNFQLGHIARYHAYFGMPYIPSCPDRDKAKWWSHEYISSKYASNGTEYPPQDVVKLFYMNKASSKISDETPDHKMWWFKAMYGGPWDTDRHSYDLCDVTRPKWHVVCFELGKHAPCWVPCVMNWDQSHERRFRMMREPTMPPEDEDDKHGWDQEHTCMFPGMVLQGPLGPIIDETSGKTKQDAVPAYNDMPKNEGHHRSYHCHVIDYVAQADLKDRYSNLYWQGGADDEYPYMIPEMKVDQMSIHHHKSQTVDCRQAHLIVVSKFCMNFANT'\n",
    "string_list = list_chunk(string, 1)"
   ]
  },
  {
   "cell_type": "code",
   "execution_count": 57,
   "metadata": {},
   "outputs": [],
   "source": [
    "a = []\n",
    "for i in range(len(string_list)):\n",
    "    a.append(mass[string_list[i]])"
   ]
  },
  {
   "cell_type": "code",
   "execution_count": 58,
   "metadata": {},
   "outputs": [
    {
     "name": "stdout",
     "output_type": "stream",
     "text": [
      "104909.05359000056\n"
     ]
    }
   ],
   "source": [
    "print(sum(a))"
   ]
  },
  {
   "cell_type": "code",
   "execution_count": 1,
   "metadata": {},
   "outputs": [
    {
     "name": "stdout",
     "output_type": "stream",
     "text": [
      "821.3919199999999\n"
     ]
    }
   ],
   "source": [
    "#ref\n",
    "\n",
    "protein = 'SKADYEK'\n",
    "\n",
    "# Monoisotopic mass table\n",
    "amino_mass = {\n",
    "    'A':71.03711,\n",
    "    'C':103.00919,\n",
    "    'D':115.02694,\n",
    "    'E':129.04259,\n",
    "    'F':147.06841,\n",
    "    'G':57.02146,\n",
    "    'H':137.05891,\n",
    "    'I':113.08406,\n",
    "    'K':128.09496,\n",
    "    'L':113.08406,\n",
    "    'M':131.04049,\n",
    "    'N':114.04293,\n",
    "    'P':97.05276,\n",
    "    'Q':128.05858,\n",
    "    'R':156.10111,\n",
    "    'S':87.03203,\n",
    "    'T':101.04768,\n",
    "    'V':99.06841,\n",
    "    'W':186.07931,\n",
    "    'Y':163.06333\n",
    "}\n",
    "\n",
    "mass = 0\n",
    "for char in protein:\n",
    "    mass += amino_mass[char]\n",
    "\n",
    "print (str(mass))"
   ]
  }
 ],
 "metadata": {
  "kernelspec": {
   "display_name": "Python 3",
   "language": "python",
   "name": "python3"
  },
  "language_info": {
   "codemirror_mode": {
    "name": "ipython",
    "version": 3
   },
   "file_extension": ".py",
   "mimetype": "text/x-python",
   "name": "python",
   "nbconvert_exporter": "python",
   "pygments_lexer": "ipython3",
   "version": "3.10.4"
  },
  "orig_nbformat": 4,
  "vscode": {
   "interpreter": {
    "hash": "f209872d82f9794c704f0d4052cc71563b5d71bf08c9151c94b32b01be0c54a0"
   }
  }
 },
 "nbformat": 4,
 "nbformat_minor": 2
}
