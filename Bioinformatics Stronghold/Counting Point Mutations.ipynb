{
 "cells": [
  {
   "attachments": {},
   "cell_type": "markdown",
   "metadata": {},
   "source": [
    "## Counting Point Mutations"
   ]
  },
  {
   "attachments": {},
   "cell_type": "markdown",
   "metadata": {},
   "source": [
    "Given two strings s and t of equal length, the Hamming distance between s and t, denoted dH(s,t), is the number of corresponding symbols that differ in s and t. See Figure 2.\n",
    "\n",
    "Given: Two DNA strings s and t of equal length (not exceeding 1 kbp).\n",
    "\n",
    "Return: The Hamming distance dH(s,t)."
   ]
  },
  {
   "cell_type": "code",
   "execution_count": 6,
   "metadata": {},
   "outputs": [],
   "source": [
    "import numpy as np"
   ]
  },
  {
   "cell_type": "code",
   "execution_count": 39,
   "metadata": {},
   "outputs": [],
   "source": [
    "def hdis(a,b):\n",
    "    la = list(a)\n",
    "    lb = list(b)\n",
    "    na = np.array(la)\n",
    "    nb = np.array(lb)\n",
    "    \n",
    "    c = (na == nb)\n",
    "    \n",
    "    count_true = np.count_nonzero(c)\n",
    "    count_false = c.size - count_true\n",
    "    return count_false"
   ]
  },
  {
   "cell_type": "code",
   "execution_count": 41,
   "metadata": {},
   "outputs": [
    {
     "data": {
      "text/plain": [
       "500"
      ]
     },
     "execution_count": 41,
     "metadata": {},
     "output_type": "execute_result"
    }
   ],
   "source": [
    "a = 'AATATCAGAGGTCTGCGAGGCTAATTCCATCACACGCTTGATGCAATCCGTATACTTGAGGGCAGGTTGGCCGGGGAAAGTTCCCGGCTTAGACAACGAGTTCCCGTTCAATTTGTAGCCTGCCCTGGAGAGTTGCGAAGATGTCCGCGCCTCGAACACTTCGGATGGGGGGAAATCGTTCCTGTCCATTTGAAATCGGAGCTTGTCTACCAGTTTTACGTACGATTTATGAGGCGATCGTTCCTCAACACGGTGTACTCGGGTAACCCCCCGATAAACCACTGGACACCAAGCATCTGATATCGCTCTATCCATAAACTGAGTGCCCTTTACTGCCATATGTGTCACATAGCGTGTGGATTTGCTTAAGATGGTTCTGAGTTTCGCTATTAGGAGAGCGCGTTGAGTTGGATGGCTAATGGTCGGTCGTGGGAACCATCTAGTTTGGCCTCGTGGATCAACTGGCGGGGAGAATTCCGCTATGAGATAGCCTGAGCTATTCCCTGTGAGCTGTAGCTCGGCCTCGACACTCAGCACCACTTAGCGGTGACTCGTACCTCGAGCTGAGTCGCAGACCACTCTCTTTACCGTTGGTTAAAGGCCAAACGTGTTTGATACACTCCGCCCCTAGGACGCTCCCGTTCTACAGTGCGCCAAGACCTCGATTTAGCCAGCATCCGTGAGAGTGCGCGTACAGAGACCGCCTGCTGGGGCGATCCGGTCAAATTCACCTTTGCTGAAGTATAAAAGATGTAGTCCACACGTGTCCCGCTGGTCTCATTGATACTACGAGCCCGAAACGCACATATTCCGTCTACAAAGCACCGGTGGGAGTGGATAACCAATTATCCTACAAATTTAGCCCGCTCTTCGATTTAATACACTTTCCGGTCACGCCAACACGGACAATGCCGCTACATGGGTAGTGATAATACAATATAGGGACTGTTTAGACGGTATTTAAACAAGATGTCCAA'\n",
    "\n",
    "b = 'AAGAAAAGACGGCCCCCCGGGAAGTTCAAGCAAGCACTATATCACATCTGAAAAGGGGATGGCCTGCAGTCACTTAACAAAGACCGTTATGGCCAACCAGTTCCATATCGGTTTGAATCCTCCCGTATAGAGTGGGCGTGATGCCCCTATTCAGCGGAGGATAAACCCTTCTAACTGGCGCCCATCCATGTGACCTAGGACTGGCTAGACCTATCTAAAACGCGTTCTCCCCGGTGATTGAACGACCATCAGTTCGAATCGTGTATGTAAACGGTCACCTGTGCGCCCATAGTCGTAAGTGATCTTTCCTGCCTTTTACTGAATAAAATCTACGGCCTCTTAGCTCTCCTAGCGTTGCGTGTTGATTGCAATGGTACATGGCTTTGATATTAATTGAAGGGGATGGAGCCCATAGGTCATACTAGAGCGAGACTAGATTCTTGTTTCGCCGCAGATATAACATGATGCCAGAACTTCTTTTATGAAAGAGCCTGCAGATTTCACTGTACGCTCAAGTTAGGCTTTCAAAGTGGTTAGCCTGTATAGATAATTCAGTCTTACACTGACCTGGCAAACCACATATTTTTCCCTGCACTCAGTGACAAGCGTGTGTAAACCCATCCGGGTCGTCAACGTGCGTAGACGAATGGGCGTCCTCAAATTTAACGACCTGGGGGACGCAAGTGGGGTTCTTTAGAAACTGACGGTGCGAGGGATCCGGGGAGGGTCTTGGGTGGTGGAGGATGGAATTTATGGTCCAGAATAGCCAAGTCGCCGCTAACTTGACATCCGGGTTGACACATACATGCCAATCCGATCCAACATCTGTTGTTTTGGATCAGTAATTCTACCTCTAATATTGCCCACCATGCGATTTACTACCCGTCTTCGACGCGCGCACATTGACAATGATGATTCGGCTGTATTTCTAATAAAACAACATGCGAGTACACTTGTAAGTAAATCAATCTGTGAGC'\n",
    "\n",
    "hdis(a,b)"
   ]
  },
  {
   "cell_type": "code",
   "execution_count": 1,
   "metadata": {},
   "outputs": [
    {
     "name": "stdout",
     "output_type": "stream",
     "text": [
      "7\n"
     ]
    }
   ],
   "source": [
    "# ref code\n",
    "s1 = 'GAGCCTACTAACGGGAT'\n",
    "s2 = 'CATCGTAATGACGGCCT'\n",
    "print ([ a!=b for (a, b) in zip(s1, s2)].count(True)) ## 한줄로 간단하게!!"
   ]
  }
 ],
 "metadata": {
  "kernelspec": {
   "display_name": "Python 3",
   "language": "python",
   "name": "python3"
  },
  "language_info": {
   "codemirror_mode": {
    "name": "ipython",
    "version": 3
   },
   "file_extension": ".py",
   "mimetype": "text/x-python",
   "name": "python",
   "nbconvert_exporter": "python",
   "pygments_lexer": "ipython3",
   "version": "3.10.4"
  },
  "orig_nbformat": 4,
  "vscode": {
   "interpreter": {
    "hash": "f209872d82f9794c704f0d4052cc71563b5d71bf08c9151c94b32b01be0c54a0"
   }
  }
 },
 "nbformat": 4,
 "nbformat_minor": 2
}
