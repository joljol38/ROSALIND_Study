{
 "cells": [
  {
   "attachments": {},
   "cell_type": "markdown",
   "metadata": {},
   "source": [
    "## Computing GC Content"
   ]
  },
  {
   "attachments": {},
   "cell_type": "markdown",
   "metadata": {},
   "source": [
    "The GC-content of a DNA string is given by the percentage of symbols in the string that are 'C' or 'G'. For example, the GC-content of \"AGCTATAG\" is 37.5%. Note that the reverse complement of any DNA string has the same GC-content.\n",
    "\n",
    "DNA strings must be labeled when they are consolidated into a database. A commonly used method of string labeling is called FASTA format. In this format, the string is introduced by a line that begins with '>', followed by some labeling information. Subsequent lines contain the string itself; the first line to begin with '>' indicates the label of the next string.\n",
    "\n",
    "In Rosalind's implementation, a string in FASTA format will be labeled by the ID \"Rosalind_xxxx\", where \"xxxx\" denotes a four-digit code between 0000 and 9999.\n",
    "\n",
    "Given: At most 10 DNA strings in FASTA format (of length at most 1 kbp each).\n",
    "\n",
    "Return: The ID of the string having the highest GC-content, followed by the GC-content of that string. Rosalind allows for a default error of 0.001 in all decimal answers unless otherwise stated; please see the note on absolute error below."
   ]
  },
  {
   "cell_type": "code",
   "execution_count": 43,
   "metadata": {},
   "outputs": [],
   "source": [
    "#####################\n",
    "# code to read FASTA file\n",
    "#####################\n",
    "import sys, re\n",
    "\n",
    "f=open('rosalind_gc.fasta','r')\n",
    "lines=f.readlines()\n",
    "\n",
    "hre=re.compile('>(\\S+)')\n",
    "lre=re.compile('^(\\S+)$')\n",
    "\n",
    "gene={}\n",
    "\n",
    "for line in lines:\n",
    "        outh = hre.search(line)\n",
    "        if outh:\n",
    "                id=outh.group(1)\n",
    "        else:\n",
    "                outl=lre.search(line)\n",
    "                if(id in gene.keys()):\n",
    "                        gene[id] += outl.group(1)\n",
    "                else:\n",
    "                        gene[id]  =outl.group(1)"
   ]
  },
  {
   "cell_type": "code",
   "execution_count": 44,
   "metadata": {},
   "outputs": [],
   "source": [
    "key_list = list(gene.keys())\n",
    "value_list = list(gene.values())"
   ]
  },
  {
   "cell_type": "code",
   "execution_count": 45,
   "metadata": {},
   "outputs": [
    {
     "name": "stdout",
     "output_type": "stream",
     "text": [
      "Rosalind_7002\n",
      "51.11940298507462\n"
     ]
    }
   ],
   "source": [
    "score = []\n",
    "for value in gene.values():\n",
    "    a = value\n",
    "    a = list(a) # string to list\n",
    "    count = (a.count('C') + a.count('G'))/(len(a))\n",
    "    score.append(count*100)\n",
    "    mscore = max(score)\n",
    "    ind = (score.index(max(score)))\n",
    "    \n",
    "print(key_list[ind])\n",
    "print(mscore)"
   ]
  },
  {
   "cell_type": "code",
   "execution_count": 18,
   "metadata": {},
   "outputs": [
    {
     "name": "stdout",
     "output_type": "stream",
     "text": [
      "53.75\n"
     ]
    }
   ],
   "source": [
    "a = gene['Rosalind_6404']\n",
    "a = list(a) # string to list\n",
    "count = (a.count('C') + a.count('G'))/(len(a))\n",
    "print(count*100)"
   ]
  },
  {
   "cell_type": "code",
   "execution_count": 19,
   "metadata": {},
   "outputs": [
    {
     "name": "stdout",
     "output_type": "stream",
     "text": [
      "53.57142857142857\n"
     ]
    }
   ],
   "source": [
    "b = gene['Rosalind_5959']\n",
    "b = list(b) # string to list\n",
    "count = (b.count('C') + b.count('G'))/(len(b))\n",
    "print(count*100)"
   ]
  },
  {
   "cell_type": "code",
   "execution_count": 20,
   "metadata": {},
   "outputs": [
    {
     "name": "stdout",
     "output_type": "stream",
     "text": [
      "60.91954022988506\n"
     ]
    }
   ],
   "source": [
    "c = gene['Rosalind_0808']\n",
    "c = list(c) # string to list\n",
    "count = (c.count('C') + c.count('G'))/(len(c))\n",
    "print(count*100)"
   ]
  },
  {
   "cell_type": "code",
   "execution_count": 48,
   "metadata": {},
   "outputs": [
    {
     "name": "stdout",
     "output_type": "stream",
     "text": [
      "Rosalind_0808 60.91954022988506\n"
     ]
    }
   ],
   "source": [
    "# ref code\n",
    "\n",
    "with open('rosalind.txt', mode='r', encoding='utf+8') as file:\n",
    "    re = ''.join(file.read().split('\\n')).split('>')\n",
    "    re.remove('')\n",
    "    d = {}\n",
    "    for i in re:\n",
    "        x = i[13:].count('C') + i[13:].count('G')\n",
    "        d[i[:13]] = x * 100 / (len(i[13:]))\n",
    "    print(max(d, key=d.get), max(d.values()))"
   ]
  },
  {
   "cell_type": "code",
   "execution_count": null,
   "metadata": {},
   "outputs": [],
   "source": []
  }
 ],
 "metadata": {
  "kernelspec": {
   "display_name": "Python 3",
   "language": "python",
   "name": "python3"
  },
  "language_info": {
   "codemirror_mode": {
    "name": "ipython",
    "version": 3
   },
   "file_extension": ".py",
   "mimetype": "text/x-python",
   "name": "python",
   "nbconvert_exporter": "python",
   "pygments_lexer": "ipython3",
   "version": "3.10.4"
  },
  "orig_nbformat": 4,
  "vscode": {
   "interpreter": {
    "hash": "f209872d82f9794c704f0d4052cc71563b5d71bf08c9151c94b32b01be0c54a0"
   }
  }
 },
 "nbformat": 4,
 "nbformat_minor": 2
}
