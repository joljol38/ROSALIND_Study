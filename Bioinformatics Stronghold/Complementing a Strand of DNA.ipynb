{
 "cells": [
  {
   "attachments": {},
   "cell_type": "markdown",
   "metadata": {},
   "source": [
    "## Complementing a Strand of DNA"
   ]
  },
  {
   "attachments": {},
   "cell_type": "markdown",
   "metadata": {},
   "source": [
    "In DNA strings, symbols 'A' and 'T' are complements of each other, as are 'C' and 'G'.\n",
    "\n",
    "The reverse complement of a DNA string s is the string sc\n",
    " formed by reversing the symbols of s, then taking the complement of each symbol (e.g., the reverse complement of \"GTCA\" is \"TGAC\").\n",
    "\n",
    "Given: A DNA string s of length at most 1000 bp.\n",
    "\n",
    "Return: The reverse complement sc of s."
   ]
  },
  {
   "cell_type": "code",
   "execution_count": 16,
   "metadata": {},
   "outputs": [],
   "source": [
    "def rev_comp(seq):\n",
    "    comp_dict={'A':'T', 'T':'A', 'C':'G', 'G':'C'}\n",
    "    seq_comp=\"\"\n",
    "    for char in seq:\n",
    "        if char in comp_dict:\n",
    "            seq_comp = seq_comp + comp_dict[char]\n",
    "        \n",
    "    return seq_comp[::-1]\n"
   ]
  },
  {
   "cell_type": "code",
   "execution_count": 18,
   "metadata": {},
   "outputs": [
    {
     "data": {
      "text/plain": [
       "'AGCGGACACGCGGCGAACATGAGACAAACGAACCCCGTTAGGGTCACGAAAAGGCCTCGGTATGTGTCAGTACGCGACGTTGGGCAGGTGCGTACACAGCATTTGTACTGCCTGTTGATGTGACCAGTACAATTGTCCAAGAATTCACGATGTAGGCGCCAAGATGAAGGCGATGTCTGCCAAGGCTATCGTGGCCAGAGGTTGCAGCACACTCGCATAACTTTGTGGCAGTACGCTGTTGCCTCCGGAACTTCATCTATAACTTCAGTTCTACCAGCTCGTAGATAAATAGTACGAGGATCCTACTGGAGATGACACTGAACGTTATTCCCCTTTGGCACGATAAGTTTTGGGCCCATGGGTTCAGAAGATTTCCAGGCAGCTATGAAGTTGGGACTGCAGATCGACATCAAACAGGTATTGGGTTGCTTGAGTATCAATTATCAGCGATTAAAGATATGCCATGCAGAGTACCGGACACCCCGGCACAAGTTCTATTCTGGAGTGTAGTAACTACGCAGACGCTCCATCAGGAGAGCATAGCTTGCAATTCTTGCCGCCCAGAGTACACCCGTTTTGGTTACTCGGTAGACATCATTGCTACGTCTGAACTCGCTGTGTCAACCGTCGCGCCAACGCTAGTCTTGAGACCGGAGTGGCGAATGGATCATTGGGCCGTCTTAAGCGTCCCCGACCTACGTAGTTCGGGCGCGATAGCACCAATCACTTTGTCTGCAGTCCCTAGAGCTCGAAGCAGCCACCGTTCAAACTTTTGAGACCGCTCAAGGGGAGATCGGAGCCGATCTGTATCTCCCCTTTCAAAGAAGGAAGTGAGTTGCAACCAGCGATTAGAGATCGCATTCCATGGGAGAACTCGACTTAGGTG'"
      ]
     },
     "execution_count": 18,
     "metadata": {},
     "output_type": "execute_result"
    }
   ],
   "source": [
    "string = 'CACCTAAGTCGAGTTCTCCCATGGAATGCGATCTCTAATCGCTGGTTGCAACTCACTTCCTTCTTTGAAAGGGGAGATACAGATCGGCTCCGATCTCCCCTTGAGCGGTCTCAAAAGTTTGAACGGTGGCTGCTTCGAGCTCTAGGGACTGCAGACAAAGTGATTGGTGCTATCGCGCCCGAACTACGTAGGTCGGGGACGCTTAAGACGGCCCAATGATCCATTCGCCACTCCGGTCTCAAGACTAGCGTTGGCGCGACGGTTGACACAGCGAGTTCAGACGTAGCAATGATGTCTACCGAGTAACCAAAACGGGTGTACTCTGGGCGGCAAGAATTGCAAGCTATGCTCTCCTGATGGAGCGTCTGCGTAGTTACTACACTCCAGAATAGAACTTGTGCCGGGGTGTCCGGTACTCTGCATGGCATATCTTTAATCGCTGATAATTGATACTCAAGCAACCCAATACCTGTTTGATGTCGATCTGCAGTCCCAACTTCATAGCTGCCTGGAAATCTTCTGAACCCATGGGCCCAAAACTTATCGTGCCAAAGGGGAATAACGTTCAGTGTCATCTCCAGTAGGATCCTCGTACTATTTATCTACGAGCTGGTAGAACTGAAGTTATAGATGAAGTTCCGGAGGCAACAGCGTACTGCCACAAAGTTATGCGAGTGTGCTGCAACCTCTGGCCACGATAGCCTTGGCAGACATCGCCTTCATCTTGGCGCCTACATCGTGAATTCTTGGACAATTGTACTGGTCACATCAACAGGCAGTACAAATGCTGTGTACGCACCTGCCCAACGTCGCGTACTGACACATACCGAGGCCTTTTCGTGACCCTAACGGGGTTCGTTTGTCTCATGTTCGCCGCGTGTCCGCT'\n",
    "rev_comp(string)"
   ]
  },
  {
   "cell_type": "code",
   "execution_count": 24,
   "metadata": {},
   "outputs": [
    {
     "name": "stdout",
     "output_type": "stream",
     "text": [
      "ACCGGGTTTT\n"
     ]
    }
   ],
   "source": [
    "# reference code\n",
    "st = \"AAAACCCGGT\"\n",
    "st = st.replace('A', 't').replace('T', 'a').replace('C', 'g').replace('G', 'c').upper()[::-1]\n",
    "print (st)"
   ]
  },
  {
   "cell_type": "code",
   "execution_count": null,
   "metadata": {},
   "outputs": [
    {
     "name": "stdout",
     "output_type": "stream",
     "text": [
      "ACCGGGTTTT\n"
     ]
    }
   ],
   "source": [
    "# reference code\n",
    "s = 'AAAACCCGGT'\n",
    "print(s.translate(str.maketrans('ACGT', 'TGCA'))[::-1])"
   ]
  },
  {
   "cell_type": "code",
   "execution_count": null,
   "metadata": {},
   "outputs": [],
   "source": []
  }
 ],
 "metadata": {
  "kernelspec": {
   "display_name": "Python 3",
   "language": "python",
   "name": "python3"
  },
  "language_info": {
   "codemirror_mode": {
    "name": "ipython",
    "version": 3
   },
   "file_extension": ".py",
   "mimetype": "text/x-python",
   "name": "python",
   "nbconvert_exporter": "python",
   "pygments_lexer": "ipython3",
   "version": "3.10.4 (tags/v3.10.4:9d38120, Mar 23 2022, 23:13:41) [MSC v.1929 64 bit (AMD64)]"
  },
  "orig_nbformat": 4,
  "vscode": {
   "interpreter": {
    "hash": "f209872d82f9794c704f0d4052cc71563b5d71bf08c9151c94b32b01be0c54a0"
   }
  }
 },
 "nbformat": 4,
 "nbformat_minor": 2
}
