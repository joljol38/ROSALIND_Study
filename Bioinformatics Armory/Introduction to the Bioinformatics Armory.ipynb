{
 "cells": [
  {
   "attachments": {},
   "cell_type": "markdown",
   "metadata": {},
   "source": [
    "## Introduction to the Bioinformatics Armory"
   ]
  },
  {
   "attachments": {},
   "cell_type": "markdown",
   "metadata": {},
   "source": [
    "This initial problem is aimed at familiarizing you with Rosalind's task-solving pipeline. To solve it, you merely have to take a given DNA sequence and find its nucleotide counts; this problem is equivalent to “Counting DNA Nucleotides” in the Stronghold.\n",
    "\n",
    "Of the many tools for DNA sequence analysis, one of the most popular is the Sequence Manipulation Suite. Commonly known as SMS 2, it comprises a collection of programs for generating, formatting, and analyzing short strands of DNA and polypeptides.\n",
    "\n",
    "One of the simplest SMS 2 programs, called DNA stats, counts the number of occurrences of each nucleotide in a given strand of DNA. An online interface for DNA stats can be found here.\n",
    "\n",
    "Given: A DNA string s of length at most 1000 bp.\n",
    "\n",
    "Return: Four integers (separated by spaces) representing the respective number of times that the symbols 'A', 'C', 'G', and 'T' occur in s. Note: You must provide your answer in the format shown in the sample output below."
   ]
  },
  {
   "cell_type": "code",
   "execution_count": 1,
   "metadata": {},
   "outputs": [],
   "source": [
    "def qt(s):\n",
    "      return s.count(\"A\"), s.count(\"C\"), s.count(\"G\"), s.count(\"T\")\n",
    "\n"
   ]
  },
  {
   "cell_type": "code",
   "execution_count": 5,
   "metadata": {},
   "outputs": [
    {
     "data": {
      "text/plain": [
       "(181, 231, 202, 210)"
      ]
     },
     "execution_count": 5,
     "metadata": {},
     "output_type": "execute_result"
    }
   ],
   "source": [
    "string = 'ACCACCATATCGAAATTCATCCTTACCAGACTCCTTAATAGGGCGATGTCCAGGAATTCAACGCGGGCAATAAGTGCTACTGCGCCGCACAAACCGGTTCATCCTTGGATCGCCCTAGGTCGATCCCAGAGTGCAACTGGCTAGTAGAGTCAGACGTTGCGTAGTGTGCTCGCCTGATGTGGTTAATAGGTGATTAGGCGGGATGTCTGCGCATGGCGTCGGTCATTAACCGCTGGGCCCATCCGCGGCGCGGCCAGATCGCAGAGCTGTTCGTTTCAAACCGAAATTACGCGTTCCCACTAAGCCATCAGACCGTAGGACCAGCTGCATGGTTAGTAGCCGCCAGGAGAAGGTGGCTCCACGAGTTGTTTCAATTATCCATAATCCTAAGTGTACCGTTAGGGATGTCACCCCCCCGCCCGCGATTCTCCTGCGTCTTACTTGACTTATTTAGTAATAGTTTTTCAGGCGATATTTACTGGGATATTATCCTTCTTTTACCCCGCTTCCATCTGACCGCCATCCCGATAGGCAGGGGGACGATGCCAACGGTCCGGCCGTGTCGCCCGTGCGCATAGCGCCTGCAGTCATGCCGTACCGCGTTTATTAGGCCATCAGAGTAATACTATCCGTACCCCATCAGTCTCTGCGGCGGCCTACCGTTTCATTGAGGGATATAACCACCATATGTTGCTTCGGTGCAGGGGTGCGCCGTTTTGCTAGTTTACGCACTTGCCTGTGGAGCCGTAACACATCGTAGCACAAATTCACAGCGAACGTCGAACGTAATTGAGCATCTATTTCTTAACGTCAACTTAACACCC'\n",
    "qt(string)"
   ]
  }
 ],
 "metadata": {
  "kernelspec": {
   "display_name": "Python 3",
   "language": "python",
   "name": "python3"
  },
  "language_info": {
   "codemirror_mode": {
    "name": "ipython",
    "version": 3
   },
   "file_extension": ".py",
   "mimetype": "text/x-python",
   "name": "python",
   "nbconvert_exporter": "python",
   "pygments_lexer": "ipython3",
   "version": "3.10.4"
  },
  "orig_nbformat": 4,
  "vscode": {
   "interpreter": {
    "hash": "f209872d82f9794c704f0d4052cc71563b5d71bf08c9151c94b32b01be0c54a0"
   }
  }
 },
 "nbformat": 4,
 "nbformat_minor": 2
}
