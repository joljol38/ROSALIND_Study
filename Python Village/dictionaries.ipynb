{
 "cells": [
  {
   "attachments": {},
   "cell_type": "markdown",
   "metadata": {},
   "source": [
    "## Dictionaries"
   ]
  },
  {
   "attachments": {},
   "cell_type": "markdown",
   "metadata": {},
   "source": [
    "Given: A string s\n",
    " of length at most 10000 letters.\n",
    "\n",
    "Return: The number of occurrences of each word in s\n",
    ", where words are separated by spaces. Words are case-sensitive, and the lines in the output can be in any order."
   ]
  },
  {
   "cell_type": "code",
   "execution_count": 19,
   "metadata": {},
   "outputs": [
    {
     "name": "stdout",
     "output_type": "stream",
     "text": [
      "['When', 'I', 'find', 'myself', 'in', 'times', 'of', 'trouble', 'Mother', 'Mary', 'comes', 'to', 'me', 'Speaking', 'words', 'of', 'wisdom', 'let', 'it', 'be', 'And', 'in', 'my', 'hour', 'of', 'darkness', 'she', 'is', 'standing', 'right', 'in', 'front', 'of', 'me', 'Speaking', 'words', 'of', 'wisdom', 'let', 'it', 'be', 'Let', 'it', 'be', 'let', 'it', 'be', 'let', 'it', 'be', 'let', 'it', 'be', 'Whisper', 'words', 'of', 'wisdom', 'let', 'it', 'be', 'And', 'when', 'the', 'broken', 'hearted', 'people', 'living', 'in', 'the', 'world', 'agree', 'There', 'will', 'be', 'an', 'answer', 'let', 'it', 'be', 'For', 'though', 'they', 'may', 'be', 'parted', 'there', 'is', 'still', 'a', 'chance', 'that', 'they', 'will', 'see', 'There', 'will', 'be', 'an', 'answer', 'let', 'it', 'be', 'Let', 'it', 'be', 'let', 'it', 'be', 'let', 'it', 'be', 'let', 'it', 'be', 'There', 'will', 'be', 'an', 'answer', 'let', 'it', 'be', 'Let', 'it', 'be', 'let', 'it', 'be', 'let', 'it', 'be', 'let', 'it', 'be', 'Whisper', 'words', 'of', 'wisdom', 'let', 'it', 'be', 'Let', 'it', 'be', 'let', 'it', 'be', 'let', 'it', 'be', 'let', 'it', 'be', 'Whisper', 'words', 'of', 'wisdom', 'let', 'it', 'be', 'And', 'when', 'the', 'night', 'is', 'cloudy', 'there', 'is', 'still', 'a', 'light', 'that', 'shines', 'on', 'me', 'Shine', 'until', 'tomorrow', 'let', 'it', 'be', 'I', 'wake', 'up', 'to', 'the', 'sound', 'of', 'music', 'Mother', 'Mary', 'comes', 'to', 'me', 'Speaking', 'words', 'of', 'wisdom', 'let', 'it', 'be', 'Let', 'it', 'be', 'let', 'it', 'be', 'let', 'it', 'be', 'yeah', 'let', 'it', 'be', 'There', 'will', 'be', 'an', 'answer', 'let', 'it', 'be', 'Let', 'it', 'be', 'let', 'it', 'be', 'let', 'it', 'be', 'yeah', 'let', 'it', 'be', 'Whisper', 'words', 'of', 'wisdom', 'let', 'it', 'be']\n"
     ]
    }
   ],
   "source": [
    "dict = {}\n",
    "a = 'When I find myself in times of trouble Mother Mary comes to me Speaking words of wisdom let it be And in my hour of darkness she is standing right in front of me Speaking words of wisdom let it be Let it be let it be let it be let it be Whisper words of wisdom let it be And when the broken hearted people living in the world agree There will be an answer let it be For though they may be parted there is still a chance that they will see There will be an answer let it be Let it be let it be let it be let it be There will be an answer let it be Let it be let it be let it be let it be Whisper words of wisdom let it be Let it be let it be let it be let it be Whisper words of wisdom let it be And when the night is cloudy there is still a light that shines on me Shine until tomorrow let it be I wake up to the sound of music Mother Mary comes to me Speaking words of wisdom let it be Let it be let it be let it be yeah let it be There will be an answer let it be Let it be let it be let it be yeah let it be Whisper words of wisdom let it be'\n",
    "b = a.split()\n",
    "\n",
    "print(b)"
   ]
  },
  {
   "cell_type": "code",
   "execution_count": 20,
   "metadata": {},
   "outputs": [
    {
     "name": "stdout",
     "output_type": "stream",
     "text": [
      "[1, 2, 1, 1, 4, 1, 11, 1, 2, 2, 2, 3, 4, 3, 7, 11, 7, 30, 36, 41, 3, 4, 1, 1, 11, 1, 1, 4, 1, 1, 4, 1, 11, 4, 3, 7, 11, 7, 30, 36, 41, 6, 36, 41, 30, 36, 41, 30, 36, 41, 30, 36, 41, 4, 7, 11, 7, 30, 36, 41, 3, 2, 4, 1, 1, 1, 1, 4, 4, 1, 1, 4, 5, 41, 4, 4, 30, 36, 41, 1, 1, 2, 1, 41, 1, 2, 4, 2, 2, 1, 2, 2, 5, 1, 4, 5, 41, 4, 4, 30, 36, 41, 6, 36, 41, 30, 36, 41, 30, 36, 41, 30, 36, 41, 4, 5, 41, 4, 4, 30, 36, 41, 6, 36, 41, 30, 36, 41, 30, 36, 41, 30, 36, 41, 4, 7, 11, 7, 30, 36, 41, 6, 36, 41, 30, 36, 41, 30, 36, 41, 30, 36, 41, 4, 7, 11, 7, 30, 36, 41, 3, 2, 4, 1, 4, 1, 2, 4, 2, 2, 1, 2, 1, 1, 4, 1, 1, 1, 30, 36, 41, 2, 1, 1, 3, 4, 1, 11, 1, 2, 2, 2, 3, 4, 3, 7, 11, 7, 30, 36, 41, 6, 36, 41, 30, 36, 41, 30, 36, 41, 2, 30, 36, 41, 4, 5, 41, 4, 4, 30, 36, 41, 6, 36, 41, 30, 36, 41, 30, 36, 41, 2, 30, 36, 41, 4, 7, 11, 7, 30, 36, 41]\n"
     ]
    }
   ],
   "source": [
    "c = []\n",
    "for i in range(len(b)):\n",
    "    c.append(b.count(b[i]))\n",
    "print(c)"
   ]
  },
  {
   "cell_type": "code",
   "execution_count": 21,
   "metadata": {},
   "outputs": [
    {
     "name": "stdout",
     "output_type": "stream",
     "text": [
      "{'When': 1, 'I': 2, 'find': 1, 'myself': 1, 'in': 4, 'times': 1, 'of': 11, 'trouble': 1, 'Mother': 2, 'Mary': 2, 'comes': 2, 'to': 3, 'me': 4, 'Speaking': 3, 'words': 7, 'wisdom': 7, 'let': 30, 'it': 36, 'be': 41, 'And': 3, 'my': 1, 'hour': 1, 'darkness': 1, 'she': 1, 'is': 4, 'standing': 1, 'right': 1, 'front': 1, 'Let': 6, 'Whisper': 4, 'when': 2, 'the': 4, 'broken': 1, 'hearted': 1, 'people': 1, 'living': 1, 'world': 1, 'agree': 1, 'There': 4, 'will': 5, 'an': 4, 'answer': 4, 'For': 1, 'though': 1, 'they': 2, 'may': 1, 'parted': 1, 'there': 2, 'still': 2, 'a': 2, 'chance': 1, 'that': 2, 'see': 1, 'night': 1, 'cloudy': 1, 'light': 1, 'shines': 1, 'on': 1, 'Shine': 1, 'until': 1, 'tomorrow': 1, 'wake': 1, 'up': 1, 'sound': 1, 'music': 1, 'yeah': 2}\n"
     ]
    }
   ],
   "source": [
    "for i in range(len(b)):\n",
    "    dict[b[i]] = c[i]\n",
    "print(dict)"
   ]
  },
  {
   "cell_type": "code",
   "execution_count": null,
   "metadata": {},
   "outputs": [
    {
     "name": "stdout",
     "output_type": "stream",
     "text": [
      "When 1\n",
      "I 2\n",
      "find 1\n",
      "myself 1\n",
      "in 4\n",
      "times 1\n",
      "of 11\n",
      "trouble 1\n",
      "Mother 2\n",
      "Mary 2\n",
      "comes 2\n",
      "to 3\n",
      "me 4\n",
      "Speaking 3\n",
      "words 7\n",
      "wisdom 7\n",
      "let 30\n",
      "it 36\n",
      "be 41\n",
      "And 3\n",
      "my 1\n",
      "hour 1\n",
      "darkness 1\n",
      "she 1\n",
      "is 4\n",
      "standing 1\n",
      "right 1\n",
      "front 1\n",
      "Let 6\n",
      "Whisper 4\n",
      "when 2\n",
      "the 4\n",
      "broken 1\n",
      "hearted 1\n",
      "people 1\n",
      "living 1\n",
      "world 1\n",
      "agree 1\n",
      "There 4\n",
      "will 5\n",
      "an 4\n",
      "answer 4\n",
      "For 1\n",
      "though 1\n",
      "they 2\n",
      "may 1\n",
      "parted 1\n",
      "there 2\n",
      "still 2\n",
      "a 2\n",
      "chance 1\n",
      "that 2\n",
      "see 1\n",
      "night 1\n",
      "cloudy 1\n",
      "light 1\n",
      "shines 1\n",
      "on 1\n",
      "Shine 1\n",
      "until 1\n",
      "tomorrow 1\n",
      "wake 1\n",
      "up 1\n",
      "sound 1\n",
      "music 1\n",
      "yeah 2\n"
     ]
    }
   ],
   "source": [
    "# reference code\n",
    "for key, value in dict.items():\n",
    "    print (key, value)"
   ]
  },
  {
   "cell_type": "code",
   "execution_count": null,
   "metadata": {},
   "outputs": [],
   "source": []
  }
 ],
 "metadata": {
  "kernelspec": {
   "display_name": "Python 3",
   "language": "python",
   "name": "python3"
  },
  "language_info": {
   "codemirror_mode": {
    "name": "ipython",
    "version": 3
   },
   "file_extension": ".py",
   "mimetype": "text/x-python",
   "name": "python",
   "nbconvert_exporter": "python",
   "pygments_lexer": "ipython3",
   "version": "3.10.4 (tags/v3.10.4:9d38120, Mar 23 2022, 23:13:41) [MSC v.1929 64 bit (AMD64)]"
  },
  "orig_nbformat": 4,
  "vscode": {
   "interpreter": {
    "hash": "f209872d82f9794c704f0d4052cc71563b5d71bf08c9151c94b32b01be0c54a0"
   }
  }
 },
 "nbformat": 4,
 "nbformat_minor": 2
}
